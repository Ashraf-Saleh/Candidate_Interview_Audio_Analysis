{
 "cells": [
  {
   "cell_type": "markdown",
   "metadata": {},
   "source": [
    "# Project: Candidate Interview Audio Analysis\n",
    "\n",
    "In this project, we will analyze a candidate's interview response video to evaluate their communication skills. The process involves several key steps:\n",
    "\n",
    "1. **Video Processing and Audio Extraction**: We will extract the audio track from the provided video file and save it as a .wav file.\n",
    "2. **Audio Preprocessing and Feature Extraction**: We will load the extracted audio file and implement functions to extract relevant features, including speech rate, average volume/energy, and pauses.\n",
    "3. **Basic Sentiment Analysis**: Finally, we will transcribe the audio to text and perform sentiment analysis on the transcribed text to categorize the overall sentiment as positive, neutral, or negative.\n",
    "\n",
    "The project aims to provide insights into the candidate's communication skills based on the audio analysis of their interview response.\n"
   ]
  },
  {
   "cell_type": "markdown",
   "metadata": {},
   "source": [
    "## Import Required Libraries\n",
    "\n",
    "In this cell, we will import the necessary libraries that will be used throughout the project, including `pydub`, `speech_recognition`, and `textblob`.\n"
   ]
  },
  {
   "cell_type": "code",
   "execution_count": 7,
   "metadata": {},
   "outputs": [],
   "source": [
    "\n",
    "import os\n",
    "from pydub import AudioSegment\n",
    "import speech_recognition as sr\n",
    "from textblob import TextBlob\n"
   ]
  },
  {
   "cell_type": "markdown",
   "metadata": {},
   "source": [
    "## Video Processing and Audio Extraction\n",
    "\n",
    "In this cell, we will define a function to extract the audio track from the video file. \n",
    "\n",
    "**Function: `extract_audio_from_video`**\n",
    "- **Input**: \n",
    "  - `video_path`: The path to the input video file (str).\n",
    "  - `audio_output_path`: The path to save the extracted audio file (str).\n",
    "- **Output**: \n",
    "  - The audio is saved as a .wav file at the specified output path.\n"
   ]
  },
  {
   "cell_type": "code",
   "execution_count": 8,
   "metadata": {},
   "outputs": [
    {
     "name": "stdout",
     "output_type": "stream",
     "text": [
      "MoviePy - Writing audio in data/extracted_audio.wav\n"
     ]
    },
    {
     "name": "stderr",
     "output_type": "stream",
     "text": [
      "                                                                        \r"
     ]
    },
    {
     "name": "stdout",
     "output_type": "stream",
     "text": [
      "MoviePy - Done.\n",
      "Audio extraction complete.\n"
     ]
    }
   ],
   "source": [
    "# For this task, ensure you have the video file 'candidate_interview.mp4' in the 'data' folder.\n",
    "\n",
    "from moviepy.editor import VideoFileClip\n",
    "\n",
    "def extract_audio_from_video(video_path, audio_output_path):\n",
    "    video = VideoFileClip(video_path)\n",
    "    audio = video.audio\n",
    "    audio.write_audiofile(audio_output_path, codec='pcm_s16le')\n",
    "    video.close()\n",
    "\n",
    "# Define paths\n",
    "video_path = \"data/candidate_interview.mp4\"\n",
    "audio_output_path = \"data/extracted_audio.wav\"\n",
    "\n",
    "# Extract audio\n",
    "extract_audio_from_video(video_path, audio_output_path)\n",
    "print(\"Audio extraction complete.\")\n"
   ]
  },
  {
   "cell_type": "markdown",
   "metadata": {},
   "source": [
    "## Splitting Audio into Chunks\n",
    "\n",
    "In this cell, we will define a function to split the extracted audio file into smaller chunks of a maximum duration of 5 minutes.\n",
    "\n",
    "**Function: `split_audio`**\n",
    "- **Input**: \n",
    "  - `audio_path`: The path to the audio file (str).\n",
    "  - `max_duration_ms`: The maximum duration for each chunk in milliseconds (int).\n",
    "- **Output**: \n",
    "  - A list of audio chunks, each as an `AudioSegment` object.\n"
   ]
  },
  {
   "cell_type": "markdown",
   "metadata": {},
   "source": [
    "### Audio Feature Extraction Across Chunks\n",
    "\n",
    "In this cell, we:\n",
    "1. **Split the Audio into Chunks**: Since Google’s Speech Recognition API has a limitation for files longer than 5 minutes, we split the audio file into chunks of 5 minutes or less.\n",
    "2. **Calculate Speech Rate (Words Per Minute)**:\n",
    "   - For each chunk, we transcribe the audio and count the words.\n",
    "   - We compute the speech rate in words per minute (WPM) and average it across all chunks.\n",
    "3. **Calculate Average Volume**:\n",
    "   - We measure the Root Mean Square (RMS) volume, which reflects the audio’s average energy, across each chunk.\n",
    "4. **Determine Number and Duration of Pauses**:\n",
    "   - We analyze each chunk to identify pauses based on low audio volume.\n",
    "   - For each pause, we record its start and end times, allowing us to calculate both the number of pauses and total pause duration for the complete audio.\n",
    "\n",
    "Each function returns a metric that we then average or accumulate across all chunks for a comprehensive analysis of the candidate's audio. This provides valuable insights into communication style, including pacing, volume, and pauses.\n"
   ]
  },
  {
   "cell_type": "code",
   "execution_count": 15,
   "metadata": {},
   "outputs": [
    {
     "name": "stdout",
     "output_type": "stream",
     "text": [
      "Speech Rate: 115.57 words per minute\n",
      "Average Volume: 0.1012 (RMS)\n",
      "Number of Pauses: 1876\n",
      "Total Duration of Pauses: 591.79 seconds\n"
     ]
    }
   ],
   "source": [
    "import os\n",
    "import librosa\n",
    "import speech_recognition as sr\n",
    "from pydub import AudioSegment\n",
    "import numpy as np\n",
    "\n",
    "# Load audio helper function\n",
    "def load_audio(audio_path):\n",
    "    audio, sr = librosa.load(audio_path, sr=None)\n",
    "    return audio, sr\n",
    "\n",
    "# Function to split audio into chunks (5 minutes max)\n",
    "def split_audio_chunks(audio_path, chunk_duration_ms=5 * 60 * 1000):\n",
    "    audio = AudioSegment.from_file(audio_path)\n",
    "    return [audio[i:i + chunk_duration_ms] for i in range(0, len(audio), chunk_duration_ms)]\n",
    "\n",
    "# Calculate speech rate (words per minute) from audio chunks\n",
    "def calculate_speech_rate_from_chunks(chunks):\n",
    "    recognizer = sr.Recognizer()\n",
    "    words_count = 0\n",
    "    total_duration = 0\n",
    "    for i, chunk in enumerate(chunks):\n",
    "        chunk_path = f\"temp_chunk_{i}.wav\"\n",
    "        chunk.export(chunk_path, format=\"wav\")\n",
    "        \n",
    "        with sr.AudioFile(chunk_path) as source:\n",
    "            audio_data = recognizer.record(source)\n",
    "            try:\n",
    "                text = recognizer.recognize_google(audio_data)\n",
    "                words_count += len(text.split())\n",
    "                total_duration += librosa.get_duration(filename=chunk_path)\n",
    "            except sr.RequestError:\n",
    "                print(\"API unavailable for chunk:\", i)\n",
    "            except sr.UnknownValueError:\n",
    "                print(\"Unable to recognize speech for chunk:\", i)\n",
    "        \n",
    "        os.remove(chunk_path)\n",
    "    \n",
    "    words_per_minute = (words_count / total_duration) * 60 if total_duration > 0 else 0\n",
    "    return words_per_minute\n",
    "\n",
    "# Calculate average volume across audio chunks\n",
    "def calculate_average_volume_from_chunks(chunks):\n",
    "    rms_values = []\n",
    "    for chunk in chunks:\n",
    "        audio, _ = librosa.load(chunk.export(\"temp_chunk.wav\", format=\"wav\"), sr=None)\n",
    "        rms = np.sqrt(np.mean(audio ** 2))\n",
    "        rms_values.append(rms)\n",
    "        os.remove(\"temp_chunk.wav\")\n",
    "    return np.mean(rms_values)\n",
    "\n",
    "# Calculate number and duration of pauses across audio chunks\n",
    "def calculate_pauses_from_chunks(chunks, pause_threshold=0.3):\n",
    "    num_pauses = 0\n",
    "    total_pause_duration = 0\n",
    "    for chunk in chunks:\n",
    "        audio, sr = librosa.load(chunk.export(\"temp_chunk.wav\", format=\"wav\"), sr=None)\n",
    "        pause_frames = librosa.effects.split(audio, top_db=30)\n",
    "        pauses = [(start / sr, end / sr) for start, end in pause_frames]\n",
    "        num_pauses += len(pauses)\n",
    "        total_pause_duration += sum(end - start for start, end in pauses)\n",
    "        os.remove(\"temp_chunk.wav\")\n",
    "    return num_pauses, total_pause_duration\n",
    "\n",
    "# Example usage\n",
    "audio_path = \"data/extracted_audio.wav\"  \n",
    "audio_chunks = split_audio_chunks(audio_path)\n",
    "\n",
    "# Extract features from chunks and calculate averages\n",
    "speech_rate = calculate_speech_rate_from_chunks(audio_chunks)\n",
    "average_volume = calculate_average_volume_from_chunks(audio_chunks)\n",
    "num_pauses, total_pause_duration = calculate_pauses_from_chunks(audio_chunks)\n",
    "\n",
    "print(f\"Speech Rate: {speech_rate:.2f} words per minute\")\n",
    "print(f\"Average Volume: {average_volume:.4f} (RMS)\")\n",
    "print(f\"Number of Pauses: {num_pauses}\")\n",
    "print(f\"Total Duration of Pauses: {total_pause_duration:.2f} seconds\")\n"
   ]
  },
  {
   "cell_type": "code",
   "execution_count": 9,
   "metadata": {},
   "outputs": [
    {
     "name": "stdout",
     "output_type": "stream",
     "text": [
      "Audio split into 4 chunks of 5 minutes or less.\n"
     ]
    }
   ],
   "source": [
    "\n",
    "def split_audio(audio_path, max_duration_ms):\n",
    "    audio = AudioSegment.from_wav(audio_path)\n",
    "    chunks = []\n",
    "    for i in range(0, len(audio), max_duration_ms):\n",
    "        chunk = audio[i:i + max_duration_ms]\n",
    "        chunks.append(chunk)\n",
    "    return chunks\n",
    "\n",
    "# Set maximum duration (5 minutes in milliseconds)\n",
    "max_duration_minutes = 5\n",
    "max_duration_ms = max_duration_minutes * 60 * 1000  # Convert minutes to milliseconds\n",
    "\n",
    "# Split the audio into chunks\n",
    "audio_chunks = split_audio(audio_output_path, max_duration_ms)\n",
    "print(f\"Audio split into {len(audio_chunks)} chunks of {max_duration_minutes} minutes or less.\")\n"
   ]
  },
  {
   "cell_type": "markdown",
   "metadata": {},
   "source": [
    "## Transcribing Audio Chunks\n",
    "\n",
    "In this cell, we will define a function to transcribe the audio chunks using Google Speech Recognition.\n",
    "\n",
    "**Function: `transcribe_audio_chunks`**\n",
    "- **Input**: \n",
    "  - `chunks`: A list of audio chunks (list of `AudioSegment`).\n",
    "- **Output**: \n",
    "  - A string containing the full transcription of the audio chunks combined.\n"
   ]
  },
  {
   "cell_type": "code",
   "execution_count": 10,
   "metadata": {},
   "outputs": [
    {
     "name": "stdout",
     "output_type": "stream",
     "text": [
      "Chunk 1: SO2 if you talking I cannot hear you oh yeah yes can you hear me now yes I can how much you can you hear me how are you doing today yeah I'm doing quite well hope you're not as well on my head where are you calling from yes I'm currently at Accra Accra where where in a car are you basin site yeah ok great awesome cool well I really do appreciate taking the time out to to meet with me on today kick off I was going to just tell you there but ending opportunity and then afterwards actually a few questions then we could talk about the Next Steps how does that sound that sounds fine so bridge of that we are a software developer staffing company where we intentionally only higher African developers we should be believe that Africa is the next Wave of tech Talent often when us companies are hiring official developers they tend to go to India is in Europe and those regions however that comes with the lord of disadvantages one is the time zone India and the US has a significant time zone difference that can arrange up to 12 hours so that impacts when it comes to that rare time collaboration and having that overlap and two is like the culture differences as well and as you know as a software developer you need that real-time collaboration to be able to integrate with the team to do daily stand-ups and any ad hoc issues that arises fortunately with the Ghana only being a 4 hours time zone difference we are able to provide that real-time collaboration with with our clients so with this role is on this road is mainly for a senior level front end developer we have work with this client for almost a year now and we have already this kind has already hired several Ghanaians before there's there's actually so got any as currently on the team and then looking to expand so this time is high growth startup company that is growing significantly pretty fast they are looking for a front end developer that is well the experience and typescript react and the other text tag that we share in the JD they are also looking for someone that has great soft skills that is able to be independent and and take on that like the necessary task it's itself right and also being very outcome driven this is a fast-paced environment where where there are task regularly available they have great systems and processes as well however is up to you to like get it to get it done and being able to Leverage your your past experiences to know how to advocate for yourself to to understand different embassy so I asked one suggest actually a little bit more questions so can you share a little bit more about yourself thank you for watching me through the company background what to do and what you expecting okay so from my end I started the software development journey in 2016 when I started pursuing my bachelor's doing that period I picked on ATM or CSS PHP I did some c sharp as well and I started my first rule in 2018 I said angular developer where I built application using typescript CSS and then atml I drink that period also I also doubled in C Sharp for the back and development\n",
      "Chunk 2: fast forward to 2020 I got my first role as a react developer that I'm the only class based components and the JavaScript order so I started from there join the company after one year over there react release functional components I started writing some of the class based components over the port over some of the JavaScript code to type script because there are some errors that already getting caught during the development you have to compile the code before so I did that over there I did some interesting project during that period up to 2022 when I co-founded my startup over the hours the front end developer Road the product in react next JS typescript at the back end in Django as well for my recent rule that I just left I was the senior appointed developer over there I couldn't primarily react typescript they had an internal platform in vanilla JavaScript with 18 month CSS and jQuery I reload that platform to next year's and typescript as well I also manage their fronted at their mobile application in flatter as well yeah currently I work with a company in San Francisco as a front end developer and mobile developer yes I am currently looking for other roles as well because there is no longer that challenge in so that's why I apply to this row so that's the point that I am in my career one more Mum I'm just taking some notes call are you can you tell me more about your experience and some of the some of the work that you have done leveraging typescript and react yes so one of the experienced recently would be with the project that I converted from the vanilla JavaScript and give credit to typescript and react I'm so cool are you do you have experience working in the agile environment yes I have experience working at agile environment from the spring sprint rules what's your experience working in agile environment where they have a utilised ceremonies and story parts yes so in my previous story point where you get the task broken down and they assign the story point so it depends on the complexity of the project for the time you think you'll be able to take to execute it so you could go from one to three story point five story point it's story point depending on the time you think some other routes have worked on that one is click up more like time estimation how long it will take you you're not necessary the story point how do you do with embroidery with the story parts when you guys can you share can you share a time where it was ambiguity with the story points and how what did you do ok so that's very comes up if the tax is not clearly defined so usually in our flow you have like the UI design over there and then after frontage developer you look at the design you see the API integration and stuff and you know how long it to take you so if there is no design for that particular task between the tax is not clearly defined so with that what will be you read that concerned that there is no UI for it so you don't really know how long it will take to do so then you actually should be done before you continue but if the UI can be done what are the if the story I see it can take an airport of 3 story point I'll say 5 because you don't know what might happen to kind of put some something there for in case maybe the tax ends up going over the three points thanks and how many years experience do you have with nextjs okay how 4 years of experience is next year's is it 4 years of professional experience of professional experience how about breath react react have 5 years of professional experience\n",
      "Chunk 3: can you tell me the time can you share with me your experience when you have utilised graphql yes so what I was working on a project that we have to use the graphql what I found fascinating about it was that unlike the rest API client where sometimes you get data that you don't need this one I could specify the structure that I wanted data in so that helps me in writing my mother's also not to contain redundant data that are not used because I just want to pass the data from Jason to the object cool thanks thanks for that and I as well as do you have experience working with terrify no I don't experience with you terraform yeah other of explore other devops tools as well yeah what are the other test types that you are familiar with is flatter for mobile development laravel for back-end development do some I call stacks if I do jungle as well but my costs are flatter in laravel okay sounds sounds good and what are some of the testing frameworks that you are from really over it ok so a few Cyprus I've used playwright I've used guessed yet thanks and what are you looking for your next job opportunity okay so in my next job opportunity I'm looking at working on something challenging something that LSA to put my skills to good use and also makes impact thank you for that and what are your salary expectations on the on the company yeah so depend on the budget then we'll go from there sure or do you mind answering the question they say budget is that issue okay if budget is not an if you are the Range the Rangers I can go from the movie from 5000 going so once I know more of the role and stuff you can better come up with budget sign is good and are the other roles are actually paid in CDs so so we can do the conversion but I would like to know what is your salary expectation in CDs ok so is it that will be around 70 70,000 going there thanks for that and before I talk about the the next steps and questions do you have any questions for me no not yet oh are you are you engaging with the are you talking with me through your phone yes I'm talking if you drink my phone sure why is that oh I just thought it is locked up in here to move around that's fine and I'm dating my MacBook to the latest sequoia just released this morning sounds good so I will talk about the the Next Steps so afterwards we are going to be on Notes you should be receiving an email from Dave match Dev match is when involve partners that we issue technical assessments and you will receive a assessment on on typescript and react then from there you will have approximately about 2 to 3 days to complete the teddy go assessment if you pass that's when we will invite you to a live coding challenge this is where you will show you a screen\n",
      "Chunk 4: then afterwards if you are are able to pass that session then we will ask you a couple more questions and we will include you in the short list to the clients do you have any other questions no no no questions are out here oh I appreciate that so be on the lookout for me email from deaf match of the tend to go assessment and we can move from there but because well I appreciate you take your time out to talk with me on this morning and and be on the lookout to have for you brother simply soon\n",
      "Full Transcription Completed.\n"
     ]
    }
   ],
   "source": [
    "\n",
    "def transcribe_audio_chunks(chunks):\n",
    "    recognizer = sr.Recognizer()\n",
    "    transcriptions = []\n",
    "    \n",
    "    for i, chunk in enumerate(chunks):\n",
    "        # Save each chunk to a temporary file\n",
    "        chunk_path = f\"temp_chunk_{i}.wav\"\n",
    "        chunk.export(chunk_path, format=\"wav\")\n",
    "        \n",
    "        # Transcribe the chunk\n",
    "        with sr.AudioFile(chunk_path) as source:\n",
    "            audio_data = recognizer.record(source)\n",
    "            try:\n",
    "                transcription = recognizer.recognize_google(audio_data)\n",
    "                transcriptions.append(transcription)\n",
    "                print(f\"Chunk {i + 1}: {transcription}\")\n",
    "            except sr.UnknownValueError:\n",
    "                print(f\"Chunk {i + 1}: Google Speech Recognition could not understand the audio.\")\n",
    "            except sr.RequestError as e:\n",
    "                print(f\"Chunk {i + 1}: Could not request results from Google Speech Recognition service: {e}\")\n",
    "        \n",
    "        # Remove the temporary file\n",
    "        os.remove(chunk_path)\n",
    "\n",
    "    return \" \".join(transcriptions)\n",
    "\n",
    "# Transcribe the audio chunks\n",
    "full_transcription = transcribe_audio_chunks(audio_chunks)\n",
    "print(\"Full Transcription Completed.\")\n"
   ]
  },
  {
   "cell_type": "code",
   "execution_count": 14,
   "metadata": {},
   "outputs": [
    {
     "name": "stdout",
     "output_type": "stream",
     "text": [
      "SO2 if you talking I cannot hear you oh yeah yes can you hear me now yes I can how much you can you hear me how are you doing today yeah I'm doing quite well hope you're not as well on my head where are you calling from yes I'm currently at Accra Accra where where in a car are you basin site yeah ok great awesome cool well I really do appreciate taking the time out to to meet with me on today kick off I was going to just tell you there but ending opportunity and then afterwards actually a few questions then we could talk about the Next Steps how does that sound that sounds fine so bridge of that we are a software developer staffing company where we intentionally only higher African developers we should be believe that Africa is the next Wave of tech Talent often when us companies are hiring official developers they tend to go to India is in Europe and those regions however that comes with the lord of disadvantages one is the time zone India and the US has a significant time zone difference that can arrange up to 12 hours so that impacts when it comes to that rare time collaboration and having that overlap and two is like the culture differences as well and as you know as a software developer you need that real-time collaboration to be able to integrate with the team to do daily stand-ups and any ad hoc issues that arises fortunately with the Ghana only being a 4 hours time zone difference we are able to provide that real-time collaboration with with our clients so with this role is on this road is mainly for a senior level front end developer we have work with this client for almost a year now and we have already this kind has already hired several Ghanaians before there's there's actually so got any as currently on the team and then looking to expand so this time is high growth startup company that is growing significantly pretty fast they are looking for a front end developer that is well the experience and typescript react and the other text tag that we share in the JD they are also looking for someone that has great soft skills that is able to be independent and and take on that like the necessary task it's itself right and also being very outcome driven this is a fast-paced environment where where there are task regularly available they have great systems and processes as well however is up to you to like get it to get it done and being able to Leverage your your past experiences to know how to advocate for yourself to to understand different embassy so I asked one suggest actually a little bit more questions so can you share a little bit more about yourself thank you for watching me through the company background what to do and what you expecting okay so from my end I started the software development journey in 2016 when I started pursuing my bachelor's doing that period I picked on ATM or CSS PHP I did some c sharp as well and I started my first rule in 2018 I said angular developer where I built application using typescript CSS and then atml I drink that period also I also doubled in C Sharp for the back and development fast forward to 2020 I got my first role as a react developer that I'm the only class based components and the JavaScript order so I started from there join the company after one year over there react release functional components I started writing some of the class based components over the port over some of the JavaScript code to type script because there are some errors that already getting caught during the development you have to compile the code before so I did that over there I did some interesting project during that period up to 2022 when I co-founded my startup over the hours the front end developer Road the product in react next JS typescript at the back end in Django as well for my recent rule that I just left I was the senior appointed developer over there I couldn't primarily react typescript they had an internal platform in vanilla JavaScript with 18 month CSS and jQuery I reload that platform to next year's and typescript as well I also manage their fronted at their mobile application in flatter as well yeah currently I work with a company in San Francisco as a front end developer and mobile developer yes I am currently looking for other roles as well because there is no longer that challenge in so that's why I apply to this row so that's the point that I am in my career one more Mum I'm just taking some notes call are you can you tell me more about your experience and some of the some of the work that you have done leveraging typescript and react yes so one of the experienced recently would be with the project that I converted from the vanilla JavaScript and give credit to typescript and react I'm so cool are you do you have experience working in the agile environment yes I have experience working at agile environment from the spring sprint rules what's your experience working in agile environment where they have a utilised ceremonies and story parts yes so in my previous story point where you get the task broken down and they assign the story point so it depends on the complexity of the project for the time you think you'll be able to take to execute it so you could go from one to three story point five story point it's story point depending on the time you think some other routes have worked on that one is click up more like time estimation how long it will take you you're not necessary the story point how do you do with embroidery with the story parts when you guys can you share can you share a time where it was ambiguity with the story points and how what did you do ok so that's very comes up if the tax is not clearly defined so usually in our flow you have like the UI design over there and then after frontage developer you look at the design you see the API integration and stuff and you know how long it to take you so if there is no design for that particular task between the tax is not clearly defined so with that what will be you read that concerned that there is no UI for it so you don't really know how long it will take to do so then you actually should be done before you continue but if the UI can be done what are the if the story I see it can take an airport of 3 story point I'll say 5 because you don't know what might happen to kind of put some something there for in case maybe the tax ends up going over the three points thanks and how many years experience do you have with nextjs okay how 4 years of experience is next year's is it 4 years of professional experience of professional experience how about breath react react have 5 years of professional experience can you tell me the time can you share with me your experience when you have utilised graphql yes so what I was working on a project that we have to use the graphql what I found fascinating about it was that unlike the rest API client where sometimes you get data that you don't need this one I could specify the structure that I wanted data in so that helps me in writing my mother's also not to contain redundant data that are not used because I just want to pass the data from Jason to the object cool thanks thanks for that and I as well as do you have experience working with terrify no I don't experience with you terraform yeah other of explore other devops tools as well yeah what are the other test types that you are familiar with is flatter for mobile development laravel for back-end development do some I call stacks if I do jungle as well but my costs are flatter in laravel okay sounds sounds good and what are some of the testing frameworks that you are from really over it ok so a few Cyprus I've used playwright I've used guessed yet thanks and what are you looking for your next job opportunity okay so in my next job opportunity I'm looking at working on something challenging something that LSA to put my skills to good use and also makes impact thank you for that and what are your salary expectations on the on the company yeah so depend on the budget then we'll go from there sure or do you mind answering the question they say budget is that issue okay if budget is not an if you are the Range the Rangers I can go from the movie from 5000 going so once I know more of the role and stuff you can better come up with budget sign is good and are the other roles are actually paid in CDs so so we can do the conversion but I would like to know what is your salary expectation in CDs ok so is it that will be around 70 70,000 going there thanks for that and before I talk about the the next steps and questions do you have any questions for me no not yet oh are you are you engaging with the are you talking with me through your phone yes I'm talking if you drink my phone sure why is that oh I just thought it is locked up in here to move around that's fine and I'm dating my MacBook to the latest sequoia just released this morning sounds good so I will talk about the the Next Steps so afterwards we are going to be on Notes you should be receiving an email from Dave match Dev match is when involve partners that we issue technical assessments and you will receive a assessment on on typescript and react then from there you will have approximately about 2 to 3 days to complete the teddy go assessment if you pass that's when we will invite you to a live coding challenge this is where you will show you a screen then afterwards if you are are able to pass that session then we will ask you a couple more questions and we will include you in the short list to the clients do you have any other questions no no no questions are out here oh I appreciate that so be on the lookout for me email from deaf match of the tend to go assessment and we can move from there but because well I appreciate you take your time out to talk with me on this morning and and be on the lookout to have for you brother simply soon\n"
     ]
    }
   ],
   "source": [
    "print(full_transcription)"
   ]
  },
  {
   "cell_type": "markdown",
   "metadata": {},
   "source": [
    "## Basic Sentiment Analysis\n",
    "\n",
    "In this cell, we will define a function to analyze the sentiment of the transcribed text.\n",
    "\n",
    "**Function: `analyze_sentiment`**\n",
    "- **Input**: \n",
    "  - `text`: The transcribed text to analyze (str).\n",
    "- **Output**: \n",
    "  - A tuple containing the sentiment category (str) and polarity score (float).\n"
   ]
  },
  {
   "cell_type": "code",
   "execution_count": 11,
   "metadata": {},
   "outputs": [
    {
     "name": "stdout",
     "output_type": "stream",
     "text": [
      "Sentiment: Positive (Polarity: 0.21)\n"
     ]
    }
   ],
   "source": [
    "\n",
    "def analyze_sentiment(text):\n",
    "    blob = TextBlob(text)\n",
    "    polarity = blob.sentiment.polarity\n",
    "    \n",
    "    # Classify sentiment based on polarity\n",
    "    if polarity > 0.1:\n",
    "        sentiment = \"Positive\"\n",
    "    elif polarity < -0.1:\n",
    "        sentiment = \"Negative\"\n",
    "    else:\n",
    "        sentiment = \"Neutral\"\n",
    "    \n",
    "    print(f\"Sentiment: {sentiment} (Polarity: {polarity:.2f})\")\n",
    "    return sentiment, polarity\n",
    "\n",
    "# Analyze Sentiment on the full transcription\n",
    "if full_transcription:\n",
    "    sentiment, polarity = analyze_sentiment(full_transcription)\n"
   ]
  }
 ],
 "metadata": {
  "kernelspec": {
   "display_name": "audio_analysis_mac_env",
   "language": "python",
   "name": "python3"
  },
  "language_info": {
   "codemirror_mode": {
    "name": "ipython",
    "version": 3
   },
   "file_extension": ".py",
   "mimetype": "text/x-python",
   "name": "python",
   "nbconvert_exporter": "python",
   "pygments_lexer": "ipython3",
   "version": "3.11.5"
  }
 },
 "nbformat": 4,
 "nbformat_minor": 2
}
